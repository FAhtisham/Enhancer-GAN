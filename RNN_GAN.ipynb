{
  "nbformat": 4,
  "nbformat_minor": 0,
  "metadata": {
    "colab": {
      "name": "RNN GAN.ipynb",
      "provenance": [],
      "collapsed_sections": [],
      "toc_visible": true
    },
    "kernelspec": {
      "name": "python3",
      "display_name": "Python 3"
    },
    "accelerator": "GPU",
    "widgets": {
      "application/vnd.jupyter.widget-state+json": {
        "aed2efa78aaf456abb1216f5eac9f689": {
          "model_module": "@jupyter-widgets/controls",
          "model_name": "HBoxModel",
          "state": {
            "_view_name": "HBoxView",
            "_dom_classes": [],
            "_model_name": "HBoxModel",
            "_view_module": "@jupyter-widgets/controls",
            "_model_module_version": "1.5.0",
            "_view_count": null,
            "_view_module_version": "1.5.0",
            "box_style": "",
            "layout": "IPY_MODEL_f5ee9dd56a4b4b02a3e9cfd5c735d736",
            "_model_module": "@jupyter-widgets/controls",
            "children": [
              "IPY_MODEL_4d588af1bed447fba2b32832811ad10b",
              "IPY_MODEL_fa1047a4d7f04026b8705f6003a134db"
            ]
          }
        },
        "f5ee9dd56a4b4b02a3e9cfd5c735d736": {
          "model_module": "@jupyter-widgets/base",
          "model_name": "LayoutModel",
          "state": {
            "_view_name": "LayoutView",
            "grid_template_rows": null,
            "right": null,
            "justify_content": null,
            "_view_module": "@jupyter-widgets/base",
            "overflow": null,
            "_model_module_version": "1.2.0",
            "_view_count": null,
            "flex_flow": null,
            "width": null,
            "min_width": null,
            "border": null,
            "align_items": null,
            "bottom": null,
            "_model_module": "@jupyter-widgets/base",
            "top": null,
            "grid_column": null,
            "overflow_y": null,
            "overflow_x": null,
            "grid_auto_flow": null,
            "grid_area": null,
            "grid_template_columns": null,
            "flex": null,
            "_model_name": "LayoutModel",
            "justify_items": null,
            "grid_row": null,
            "max_height": null,
            "align_content": null,
            "visibility": null,
            "align_self": null,
            "height": null,
            "min_height": null,
            "padding": null,
            "grid_auto_rows": null,
            "grid_gap": null,
            "max_width": null,
            "order": null,
            "_view_module_version": "1.2.0",
            "grid_template_areas": null,
            "object_position": null,
            "object_fit": null,
            "grid_auto_columns": null,
            "margin": null,
            "display": null,
            "left": null
          }
        },
        "4d588af1bed447fba2b32832811ad10b": {
          "model_module": "@jupyter-widgets/controls",
          "model_name": "FloatProgressModel",
          "state": {
            "_view_name": "ProgressView",
            "style": "IPY_MODEL_8938baac26144185ac1a43ea991c1d74",
            "_dom_classes": [],
            "description": "100%",
            "_model_name": "FloatProgressModel",
            "bar_style": "success",
            "max": 2500,
            "_view_module": "@jupyter-widgets/controls",
            "_model_module_version": "1.5.0",
            "value": 2500,
            "_view_count": null,
            "_view_module_version": "1.5.0",
            "orientation": "horizontal",
            "min": 0,
            "description_tooltip": null,
            "_model_module": "@jupyter-widgets/controls",
            "layout": "IPY_MODEL_c61ac933efd14b23a9971b0523aa4f19"
          }
        },
        "fa1047a4d7f04026b8705f6003a134db": {
          "model_module": "@jupyter-widgets/controls",
          "model_name": "HTMLModel",
          "state": {
            "_view_name": "HTMLView",
            "style": "IPY_MODEL_1be15d2c539f44bdb3e5635a4d3eb38a",
            "_dom_classes": [],
            "description": "",
            "_model_name": "HTMLModel",
            "placeholder": "​",
            "_view_module": "@jupyter-widgets/controls",
            "_model_module_version": "1.5.0",
            "value": " 2500/2500 [00:39&lt;00:00, 62.80it/s]",
            "_view_count": null,
            "_view_module_version": "1.5.0",
            "description_tooltip": null,
            "_model_module": "@jupyter-widgets/controls",
            "layout": "IPY_MODEL_4e144a3d2df54f6daf6be73a5a28ba70"
          }
        },
        "8938baac26144185ac1a43ea991c1d74": {
          "model_module": "@jupyter-widgets/controls",
          "model_name": "ProgressStyleModel",
          "state": {
            "_view_name": "StyleView",
            "_model_name": "ProgressStyleModel",
            "description_width": "initial",
            "_view_module": "@jupyter-widgets/base",
            "_model_module_version": "1.5.0",
            "_view_count": null,
            "_view_module_version": "1.2.0",
            "bar_color": null,
            "_model_module": "@jupyter-widgets/controls"
          }
        },
        "c61ac933efd14b23a9971b0523aa4f19": {
          "model_module": "@jupyter-widgets/base",
          "model_name": "LayoutModel",
          "state": {
            "_view_name": "LayoutView",
            "grid_template_rows": null,
            "right": null,
            "justify_content": null,
            "_view_module": "@jupyter-widgets/base",
            "overflow": null,
            "_model_module_version": "1.2.0",
            "_view_count": null,
            "flex_flow": null,
            "width": null,
            "min_width": null,
            "border": null,
            "align_items": null,
            "bottom": null,
            "_model_module": "@jupyter-widgets/base",
            "top": null,
            "grid_column": null,
            "overflow_y": null,
            "overflow_x": null,
            "grid_auto_flow": null,
            "grid_area": null,
            "grid_template_columns": null,
            "flex": null,
            "_model_name": "LayoutModel",
            "justify_items": null,
            "grid_row": null,
            "max_height": null,
            "align_content": null,
            "visibility": null,
            "align_self": null,
            "height": null,
            "min_height": null,
            "padding": null,
            "grid_auto_rows": null,
            "grid_gap": null,
            "max_width": null,
            "order": null,
            "_view_module_version": "1.2.0",
            "grid_template_areas": null,
            "object_position": null,
            "object_fit": null,
            "grid_auto_columns": null,
            "margin": null,
            "display": null,
            "left": null
          }
        },
        "1be15d2c539f44bdb3e5635a4d3eb38a": {
          "model_module": "@jupyter-widgets/controls",
          "model_name": "DescriptionStyleModel",
          "state": {
            "_view_name": "StyleView",
            "_model_name": "DescriptionStyleModel",
            "description_width": "",
            "_view_module": "@jupyter-widgets/base",
            "_model_module_version": "1.5.0",
            "_view_count": null,
            "_view_module_version": "1.2.0",
            "_model_module": "@jupyter-widgets/controls"
          }
        },
        "4e144a3d2df54f6daf6be73a5a28ba70": {
          "model_module": "@jupyter-widgets/base",
          "model_name": "LayoutModel",
          "state": {
            "_view_name": "LayoutView",
            "grid_template_rows": null,
            "right": null,
            "justify_content": null,
            "_view_module": "@jupyter-widgets/base",
            "overflow": null,
            "_model_module_version": "1.2.0",
            "_view_count": null,
            "flex_flow": null,
            "width": null,
            "min_width": null,
            "border": null,
            "align_items": null,
            "bottom": null,
            "_model_module": "@jupyter-widgets/base",
            "top": null,
            "grid_column": null,
            "overflow_y": null,
            "overflow_x": null,
            "grid_auto_flow": null,
            "grid_area": null,
            "grid_template_columns": null,
            "flex": null,
            "_model_name": "LayoutModel",
            "justify_items": null,
            "grid_row": null,
            "max_height": null,
            "align_content": null,
            "visibility": null,
            "align_self": null,
            "height": null,
            "min_height": null,
            "padding": null,
            "grid_auto_rows": null,
            "grid_gap": null,
            "max_width": null,
            "order": null,
            "_view_module_version": "1.2.0",
            "grid_template_areas": null,
            "object_position": null,
            "object_fit": null,
            "grid_auto_columns": null,
            "margin": null,
            "display": null,
            "left": null
          }
        },
        "1db78d6d67e4462cb91bb45a7020cfdd": {
          "model_module": "@jupyter-widgets/controls",
          "model_name": "HBoxModel",
          "state": {
            "_view_name": "HBoxView",
            "_dom_classes": [],
            "_model_name": "HBoxModel",
            "_view_module": "@jupyter-widgets/controls",
            "_model_module_version": "1.5.0",
            "_view_count": null,
            "_view_module_version": "1.5.0",
            "box_style": "",
            "layout": "IPY_MODEL_4f45e84734eb4cdfbc8653fc7833493f",
            "_model_module": "@jupyter-widgets/controls",
            "children": [
              "IPY_MODEL_c44451af0774481993a473ba8d75feb6",
              "IPY_MODEL_5daa1eca9ac349b38efe00d48c499c82"
            ]
          }
        },
        "4f45e84734eb4cdfbc8653fc7833493f": {
          "model_module": "@jupyter-widgets/base",
          "model_name": "LayoutModel",
          "state": {
            "_view_name": "LayoutView",
            "grid_template_rows": null,
            "right": null,
            "justify_content": null,
            "_view_module": "@jupyter-widgets/base",
            "overflow": null,
            "_model_module_version": "1.2.0",
            "_view_count": null,
            "flex_flow": null,
            "width": null,
            "min_width": null,
            "border": null,
            "align_items": null,
            "bottom": null,
            "_model_module": "@jupyter-widgets/base",
            "top": null,
            "grid_column": null,
            "overflow_y": null,
            "overflow_x": null,
            "grid_auto_flow": null,
            "grid_area": null,
            "grid_template_columns": null,
            "flex": null,
            "_model_name": "LayoutModel",
            "justify_items": null,
            "grid_row": null,
            "max_height": null,
            "align_content": null,
            "visibility": null,
            "align_self": null,
            "height": null,
            "min_height": null,
            "padding": null,
            "grid_auto_rows": null,
            "grid_gap": null,
            "max_width": null,
            "order": null,
            "_view_module_version": "1.2.0",
            "grid_template_areas": null,
            "object_position": null,
            "object_fit": null,
            "grid_auto_columns": null,
            "margin": null,
            "display": null,
            "left": null
          }
        },
        "c44451af0774481993a473ba8d75feb6": {
          "model_module": "@jupyter-widgets/controls",
          "model_name": "FloatProgressModel",
          "state": {
            "_view_name": "ProgressView",
            "style": "IPY_MODEL_fe573e3fd94d47779b1977802f07f4f8",
            "_dom_classes": [],
            "description": "100%",
            "_model_name": "FloatProgressModel",
            "bar_style": "success",
            "max": 50,
            "_view_module": "@jupyter-widgets/controls",
            "_model_module_version": "1.5.0",
            "value": 50,
            "_view_count": null,
            "_view_module_version": "1.5.0",
            "orientation": "horizontal",
            "min": 0,
            "description_tooltip": null,
            "_model_module": "@jupyter-widgets/controls",
            "layout": "IPY_MODEL_c3b2623f50524dac87fa2b3df6cd1501"
          }
        },
        "5daa1eca9ac349b38efe00d48c499c82": {
          "model_module": "@jupyter-widgets/controls",
          "model_name": "HTMLModel",
          "state": {
            "_view_name": "HTMLView",
            "style": "IPY_MODEL_c30bc78b9ca34d07b1ae49c8e45df1b7",
            "_dom_classes": [],
            "description": "",
            "_model_name": "HTMLModel",
            "placeholder": "​",
            "_view_module": "@jupyter-widgets/controls",
            "_model_module_version": "1.5.0",
            "value": " 50/50 [15:55&lt;00:00, 19.12s/it]",
            "_view_count": null,
            "_view_module_version": "1.5.0",
            "description_tooltip": null,
            "_model_module": "@jupyter-widgets/controls",
            "layout": "IPY_MODEL_bf7e45273e7c4ce3ab1ba8c6bc1aa36b"
          }
        },
        "fe573e3fd94d47779b1977802f07f4f8": {
          "model_module": "@jupyter-widgets/controls",
          "model_name": "ProgressStyleModel",
          "state": {
            "_view_name": "StyleView",
            "_model_name": "ProgressStyleModel",
            "description_width": "initial",
            "_view_module": "@jupyter-widgets/base",
            "_model_module_version": "1.5.0",
            "_view_count": null,
            "_view_module_version": "1.2.0",
            "bar_color": null,
            "_model_module": "@jupyter-widgets/controls"
          }
        },
        "c3b2623f50524dac87fa2b3df6cd1501": {
          "model_module": "@jupyter-widgets/base",
          "model_name": "LayoutModel",
          "state": {
            "_view_name": "LayoutView",
            "grid_template_rows": null,
            "right": null,
            "justify_content": null,
            "_view_module": "@jupyter-widgets/base",
            "overflow": null,
            "_model_module_version": "1.2.0",
            "_view_count": null,
            "flex_flow": null,
            "width": null,
            "min_width": null,
            "border": null,
            "align_items": null,
            "bottom": null,
            "_model_module": "@jupyter-widgets/base",
            "top": null,
            "grid_column": null,
            "overflow_y": null,
            "overflow_x": null,
            "grid_auto_flow": null,
            "grid_area": null,
            "grid_template_columns": null,
            "flex": null,
            "_model_name": "LayoutModel",
            "justify_items": null,
            "grid_row": null,
            "max_height": null,
            "align_content": null,
            "visibility": null,
            "align_self": null,
            "height": null,
            "min_height": null,
            "padding": null,
            "grid_auto_rows": null,
            "grid_gap": null,
            "max_width": null,
            "order": null,
            "_view_module_version": "1.2.0",
            "grid_template_areas": null,
            "object_position": null,
            "object_fit": null,
            "grid_auto_columns": null,
            "margin": null,
            "display": null,
            "left": null
          }
        },
        "c30bc78b9ca34d07b1ae49c8e45df1b7": {
          "model_module": "@jupyter-widgets/controls",
          "model_name": "DescriptionStyleModel",
          "state": {
            "_view_name": "StyleView",
            "_model_name": "DescriptionStyleModel",
            "description_width": "",
            "_view_module": "@jupyter-widgets/base",
            "_model_module_version": "1.5.0",
            "_view_count": null,
            "_view_module_version": "1.2.0",
            "_model_module": "@jupyter-widgets/controls"
          }
        },
        "bf7e45273e7c4ce3ab1ba8c6bc1aa36b": {
          "model_module": "@jupyter-widgets/base",
          "model_name": "LayoutModel",
          "state": {
            "_view_name": "LayoutView",
            "grid_template_rows": null,
            "right": null,
            "justify_content": null,
            "_view_module": "@jupyter-widgets/base",
            "overflow": null,
            "_model_module_version": "1.2.0",
            "_view_count": null,
            "flex_flow": null,
            "width": null,
            "min_width": null,
            "border": null,
            "align_items": null,
            "bottom": null,
            "_model_module": "@jupyter-widgets/base",
            "top": null,
            "grid_column": null,
            "overflow_y": null,
            "overflow_x": null,
            "grid_auto_flow": null,
            "grid_area": null,
            "grid_template_columns": null,
            "flex": null,
            "_model_name": "LayoutModel",
            "justify_items": null,
            "grid_row": null,
            "max_height": null,
            "align_content": null,
            "visibility": null,
            "align_self": null,
            "height": null,
            "min_height": null,
            "padding": null,
            "grid_auto_rows": null,
            "grid_gap": null,
            "max_width": null,
            "order": null,
            "_view_module_version": "1.2.0",
            "grid_template_areas": null,
            "object_position": null,
            "object_fit": null,
            "grid_auto_columns": null,
            "margin": null,
            "display": null,
            "left": null
          }
        }
      }
    }
  },
  "cells": [
    {
      "cell_type": "code",
      "metadata": {
        "id": "uJKFtq7685U9"
      },
      "source": [
        "# Importing Libraries\n",
        "\n",
        "import sys\n",
        "import re\n",
        "import numpy as np\n",
        "import tensorflow as tf\n",
        "import os\n",
        "\n",
        "from keras.layers.normalization import BatchNormalization \n",
        "from keras import activations \n",
        "from keras.layers import MaxPool1D, MaxPool2D, Activation, Conv1D, InputLayer, Conv2D, Dense, Dropout, Flatten, LSTM, Bidirectional\n",
        "from keras.models import Sequential\n",
        "from tensorflow import keras\n",
        "import tqdm\n",
        "import random\n",
        "from random import choices\n",
        "from tqdm.notebook import tqdm"
      ],
      "execution_count": null,
      "outputs": []
    },
    {
      "cell_type": "code",
      "metadata": {
        "id": "N0E-794a85Ya",
        "outputId": "1733a14f-7c59-4157-8c62-e625e05a5233",
        "colab": {
          "base_uri": "https://localhost:8080/",
          "height": 66,
          "referenced_widgets": [
            "aed2efa78aaf456abb1216f5eac9f689",
            "f5ee9dd56a4b4b02a3e9cfd5c735d736",
            "4d588af1bed447fba2b32832811ad10b",
            "fa1047a4d7f04026b8705f6003a134db",
            "8938baac26144185ac1a43ea991c1d74",
            "c61ac933efd14b23a9971b0523aa4f19",
            "1be15d2c539f44bdb3e5635a4d3eb38a",
            "4e144a3d2df54f6daf6be73a5a28ba70"
          ]
        }
      },
      "source": [
        "seq_length = 236\n",
        "motif_length = 20\n",
        "temp_bp = ' '\n",
        "prev_bp = ''\n",
        "sequences_char = list()\n",
        "\n",
        "\n",
        "\n",
        "# Generating random sequences of length  200\n",
        "for i in range(2500):\n",
        "    sequence_char = np.array([])\n",
        "\n",
        "    \n",
        "    for j in range(seq_length):\n",
        "      \n",
        "        num = random.randint(0, 255) \n",
        "        if num <64 and prev_bp != 'A':\n",
        "            temp_bp = 'A'\n",
        "            prev_bp = 'A'\n",
        "        elif num < 128 and num >= 64 and prev_bp != 'T':\n",
        "            temp_bp = 'T'\n",
        "            prev_bp = 'T'\n",
        "        elif num < 192 and num >= 128 and prev_bp != 'C':\n",
        "            temp_bp = 'C'\n",
        "            prev_bp = 'C'\n",
        "        elif num <255 and num >=192 and prev_bp != 'G':\n",
        "            temp_bp = 'G'\n",
        "            prev_bp = 'G'\n",
        "        else:\n",
        "            num = random.randint(0, 255)\n",
        "        #print(\"Current bp:\", temp_bp, \"Prev: \", prev_bp)\n",
        "        sequence_char = np.hstack((sequence_char,temp_bp))\n",
        "\n",
        "        \n",
        "    sequences_char.append(sequence_char)\n",
        "\n",
        "    \n",
        "    \n",
        "sequences_str=list()\n",
        "sequences_str2=list()\n",
        "motif = \"AAAAAAAAAAAAAAAAAAAA\"\n",
        "enhancer = \"GGGGGGGGGGGGGGGGGGGG\"\n",
        "len(motif)\n",
        "\n",
        "\n",
        "\n",
        "# Function to convert lists to strings\n",
        "def listToString(s):  \n",
        "    # initialize an empty string \n",
        "    str1 = \" \" \n",
        "    # return string   \n",
        "    return (str1.join(s)) \n",
        "        \n",
        "\n",
        "# Combining enhancers along with DNA sequences    \n",
        "def insert_str(string, str_to_insert, index):\n",
        "    return string[:index] + str_to_insert + string[index:]\n",
        "\n",
        "sequences_char2 = sequences_char\n",
        "for i in range(len(sequences_char)):\n",
        "    s = sequences_char[i]\n",
        "    s = listToString(s)\n",
        "    s = ''.join(s.split())\n",
        "    num = random.randint(0, 200)\n",
        "    ss=insert_str(s, enhancer,num)\n",
        "    s=insert_str(s, motif,num)\n",
        "    sequences_str.append(s)\n",
        "    sequences_str2.append(ss)\n",
        "\n",
        "text_file = open(\"SEQ.FASTA\", \"w\")\n",
        "\n",
        "for i in tqdm(range(2500)):\n",
        "  temp_str = sequences_str[i]\n",
        "  text_file.write('>'+'\\n'+ temp_str + '\\n')\n",
        "\n",
        "\n",
        "for i in range(2500):\n",
        "  temp_str = sequences_str2[i]\n",
        "  text_file.write('>'+ '\\n'+temp_str+ '\\n')\n",
        "\n",
        "  \n",
        "\n",
        "text_file.close()\n"
      ],
      "execution_count": null,
      "outputs": [
        {
          "output_type": "display_data",
          "data": {
            "application/vnd.jupyter.widget-view+json": {
              "model_id": "aed2efa78aaf456abb1216f5eac9f689",
              "version_minor": 0,
              "version_major": 2
            },
            "text/plain": [
              "HBox(children=(FloatProgress(value=0.0, max=2500.0), HTML(value='')))"
            ]
          },
          "metadata": {
            "tags": []
          }
        },
        {
          "output_type": "stream",
          "text": [
            "\n"
          ],
          "name": "stdout"
        }
      ]
    },
    {
      "cell_type": "code",
      "metadata": {
        "id": "bggyP8WV85Z4"
      },
      "source": [
        "\n",
        "# Providing the data to be converted into one hot encoded vectors\n",
        "fileName = 'SEQ'\n",
        "num_samples = 5000\n",
        "seq_length = 256\n",
        "BASE_FILE_DIR = \"/content/\"\n",
        "Obj = open(BASE_FILE_DIR+\"/\"+fileName+\".FASTA\")\n",
        "\n",
        "def lessThanThreshold():\n",
        "  return np.random.uniform(low=0.01, high=0.39, size = 1)[0]\n",
        "   \n",
        "\n",
        "def greaterThanThreshold():\n",
        "  return np.random.uniform(low=0.6, high=1.0, size = 1)[0]\n",
        "\n",
        "def baseToOnehot(base):\n",
        "    \n",
        "    if base == 'A':\n",
        "        return np.array([greaterThanThreshold(),lessThanThreshold(),lessThanThreshold(),lessThanThreshold()])\n",
        "    elif base == 'G':\n",
        "        return np.array([lessThanThreshold(),greaterThanThreshold(),lessThanThreshold(),lessThanThreshold()])\n",
        "    elif base == 'C':\n",
        "        return np.array([lessThanThreshold(),lessThanThreshold(),greaterThanThreshold(),lessThanThreshold()])\n",
        "    elif base == 'T':\n",
        "        return np.array([lessThanThreshold(),lessThanThreshold(),lessThanThreshold(),greaterThanThreshold()])\n"
      ],
      "execution_count": null,
      "outputs": []
    },
    {
      "cell_type": "code",
      "metadata": {
        "id": "UzGieJP185dq",
        "outputId": "144e2fb7-6f0b-4b53-bb1a-efb03046f45f",
        "colab": {
          "base_uri": "https://localhost:8080/",
          "height": 34
        }
      },
      "source": [
        "# Creating one hot encoded numpy arrays of length seq_length\n",
        "all_samples = np.zeros((num_samples, seq_length, 4))\n",
        "current_sample = np.zeros((seq_length,4))\n",
        "\n",
        "sample_count = 0\n",
        "\n",
        "for line in Obj:\n",
        "    line = line.strip('\\r\\n')\n",
        "    if re.search('>',line):\n",
        "      sample_count += 1\n",
        "    else:\n",
        "        line = line.upper()\n",
        "        first_base = True\n",
        "        base_count = 0\n",
        "        for base in line:\n",
        "            if first_base == True:\n",
        "                first_base = False\n",
        "                current_sample = np.zeros((seq_length,4))\n",
        "                current_sample[base_count] = baseToOnehot(base)\n",
        "                base_count += 1\n",
        "            else:\n",
        "                current_sample[base_count] = baseToOnehot(base)\n",
        "                base_count += 1\n",
        "                all_samples[sample_count-1] = current_sample\n",
        "np.save(BASE_FILE_DIR+\"/\"+fileName+\".npy\", all_samples)\n",
        "print(fileName + \" Done.\")"
      ],
      "execution_count": null,
      "outputs": [
        {
          "output_type": "stream",
          "text": [
            "SEQ Done.\n"
          ],
          "name": "stdout"
        }
      ]
    },
    {
      "cell_type": "code",
      "metadata": {
        "id": "x4Z_alsP85fF",
        "outputId": "2e310a7a-3012-4015-bcc8-e8f7d71a01eb",
        "colab": {
          "base_uri": "https://localhost:8080/",
          "height": 68
        }
      },
      "source": [
        "# Playing with the shape of the data \n",
        "print(\"Shape of the data before expanding dimensions\", all_samples.shape)\n",
        "#all_samples = np.expand_dims(all_samples, axis=0)\n",
        "#print(\"Shape of the data after expanding dimensions\", all_samples.shape)\n",
        "#all_samples = np.reshape(all_samples, (20,4,1,seq_length))\n",
        "#print(\"Shape of the data after Reshaping\", all_samples.shape)\n",
        "#np.set_printoptions(threshold=np.inf)\n",
        "all_samples = np.reshape(all_samples, (num_samples,seq_length,4))\n",
        "print(all_samples.shape)\n",
        "\n",
        "# final_samples = np.reshape (all_samples, (num_samples,seq_length,4,1))\n",
        "final_samples = all_samples\n",
        "\n",
        "print(final_samples.shape)"
      ],
      "execution_count": null,
      "outputs": [
        {
          "output_type": "stream",
          "text": [
            "Shape of the data before expanding dimensions (5000, 256, 4)\n",
            "(5000, 256, 4)\n",
            "(5000, 256, 4)\n"
          ],
          "name": "stdout"
        }
      ]
    },
    {
      "cell_type": "code",
      "metadata": {
        "id": "yzCposGHB2hz"
      },
      "source": [
        "final_samples = final_samples.astype('float32')"
      ],
      "execution_count": null,
      "outputs": []
    },
    {
      "cell_type": "markdown",
      "metadata": {
        "id": "G0n-DzqS9u-W"
      },
      "source": [
        "# Discriminator RNN"
      ]
    },
    {
      "cell_type": "code",
      "metadata": {
        "id": "U26_8ChI85jO"
      },
      "source": [
        "inp = keras.Input(shape=(256, 4))\n",
        "x = LSTM(128, return_sequences=True)(inp)\n",
        "x = Bidirectional(LSTM(128))(x)\n",
        "x = Dense(128)(x)\n",
        "x = keras.layers.LeakyReLU(alpha=0.2)(x)\n",
        "x = Dense(64)(x)\n",
        "x = keras.layers.LeakyReLU(alpha=0.2)(x)\n",
        "out = Dense(1, activation='sigmoid')(x)\n",
        "\n",
        "discriminator = keras.Model(inp, out)"
      ],
      "execution_count": null,
      "outputs": []
    },
    {
      "cell_type": "code",
      "metadata": {
        "id": "89-M6P91880U",
        "outputId": "bc7b3619-c57c-4490-d7eb-9ddf16ff9434",
        "colab": {
          "base_uri": "https://localhost:8080/",
          "height": 425
        }
      },
      "source": [
        "discriminator.summary()"
      ],
      "execution_count": null,
      "outputs": [
        {
          "output_type": "stream",
          "text": [
            "Model: \"functional_1\"\n",
            "_________________________________________________________________\n",
            "Layer (type)                 Output Shape              Param #   \n",
            "=================================================================\n",
            "input_1 (InputLayer)         [(None, 256, 4)]          0         \n",
            "_________________________________________________________________\n",
            "lstm (LSTM)                  (None, 256, 128)          68096     \n",
            "_________________________________________________________________\n",
            "bidirectional (Bidirectional (None, 256)               263168    \n",
            "_________________________________________________________________\n",
            "dense (Dense)                (None, 128)               32896     \n",
            "_________________________________________________________________\n",
            "leaky_re_lu (LeakyReLU)      (None, 128)               0         \n",
            "_________________________________________________________________\n",
            "dense_1 (Dense)              (None, 64)                8256      \n",
            "_________________________________________________________________\n",
            "leaky_re_lu_1 (LeakyReLU)    (None, 64)                0         \n",
            "_________________________________________________________________\n",
            "dense_2 (Dense)              (None, 1)                 65        \n",
            "=================================================================\n",
            "Total params: 372,481\n",
            "Trainable params: 372,481\n",
            "Non-trainable params: 0\n",
            "_________________________________________________________________\n"
          ],
          "name": "stdout"
        }
      ]
    },
    {
      "cell_type": "code",
      "metadata": {
        "id": "6Spl9TVc85Tk"
      },
      "source": [
        "# keep tuning learning rate 0.0001, 0.0005, 0.001\n",
        "discriminator.compile(optimizer=keras.optimizers.Adam(learning_rate=0.0005), loss='binary_crossentropy')\n",
        "discriminator.trainable=False"
      ],
      "execution_count": null,
      "outputs": []
    },
    {
      "cell_type": "markdown",
      "metadata": {
        "id": "-UpvJwsNBC5m"
      },
      "source": [
        "# Generator RNN"
      ]
    },
    {
      "cell_type": "code",
      "metadata": {
        "id": "bFoLUAzz9H1M"
      },
      "source": [
        "g_inp = keras.Input(shape=(100,))\n",
        "\n",
        "x_hat =  keras.layers.Dense(256)(g_inp)\n",
        "x_hat = keras.layers.LeakyReLU(0.2)(x_hat)\n",
        "x_hat = keras.layers.BatchNormalization(momentum=0.8)(x_hat)\n",
        "x_hat =  keras.layers.Dense(512)(x_hat)\n",
        "x_hat = keras.layers.LeakyReLU(0.2)(x_hat)\n",
        "x_hat = keras.layers.BatchNormalization(momentum=0.8)(x_hat)\n",
        "x_hat =  keras.layers.Dense(1024)(x_hat)\n",
        "x_hat = keras.layers.LeakyReLU(0.2)(x_hat)\n",
        "x_hat = keras.layers.BatchNormalization(momentum=0.8)(x_hat)\n",
        "x_hat =  keras.layers.Dense(256*4, activation='sigmoid')(x_hat)\n",
        "g_out = keras.layers.Reshape(target_shape=(256, 4))(x_hat)\n",
        "\n",
        "generator = keras.Model(g_inp, g_out)\n"
      ],
      "execution_count": null,
      "outputs": []
    },
    {
      "cell_type": "code",
      "metadata": {
        "id": "_cOPwYNA9LUA",
        "outputId": "48fc82a0-8ca3-442b-d39e-ecf2a17e8edc",
        "colab": {
          "base_uri": "https://localhost:8080/",
          "height": 561
        }
      },
      "source": [
        "generator.summary()"
      ],
      "execution_count": null,
      "outputs": [
        {
          "output_type": "stream",
          "text": [
            "Model: \"functional_3\"\n",
            "_________________________________________________________________\n",
            "Layer (type)                 Output Shape              Param #   \n",
            "=================================================================\n",
            "input_2 (InputLayer)         [(None, 100)]             0         \n",
            "_________________________________________________________________\n",
            "dense_3 (Dense)              (None, 256)               25856     \n",
            "_________________________________________________________________\n",
            "leaky_re_lu_2 (LeakyReLU)    (None, 256)               0         \n",
            "_________________________________________________________________\n",
            "batch_normalization (BatchNo (None, 256)               1024      \n",
            "_________________________________________________________________\n",
            "dense_4 (Dense)              (None, 512)               131584    \n",
            "_________________________________________________________________\n",
            "leaky_re_lu_3 (LeakyReLU)    (None, 512)               0         \n",
            "_________________________________________________________________\n",
            "batch_normalization_1 (Batch (None, 512)               2048      \n",
            "_________________________________________________________________\n",
            "dense_5 (Dense)              (None, 1024)              525312    \n",
            "_________________________________________________________________\n",
            "leaky_re_lu_4 (LeakyReLU)    (None, 1024)              0         \n",
            "_________________________________________________________________\n",
            "batch_normalization_2 (Batch (None, 1024)              4096      \n",
            "_________________________________________________________________\n",
            "dense_6 (Dense)              (None, 1024)              1049600   \n",
            "_________________________________________________________________\n",
            "reshape (Reshape)            (None, 256, 4)            0         \n",
            "=================================================================\n",
            "Total params: 1,739,520\n",
            "Trainable params: 1,735,936\n",
            "Non-trainable params: 3,584\n",
            "_________________________________________________________________\n"
          ],
          "name": "stdout"
        }
      ]
    },
    {
      "cell_type": "code",
      "metadata": {
        "id": "U1W_Pg2B9Se0"
      },
      "source": [
        "# Making the complete Gan Model \n",
        "# keep tuning learning rate 0.0001, 0.0005, 0.001\n",
        "gan = keras.models.Sequential([generator, discriminator])\n",
        "gan.compile(optimizer=keras.optimizers.Adam(learning_rate=0.0001), loss='binary_crossentropy')"
      ],
      "execution_count": null,
      "outputs": []
    },
    {
      "cell_type": "code",
      "metadata": {
        "id": "G65E2CdNBL1p"
      },
      "source": [
        "final_samples\n",
        "dna_seqs = tf.data.Dataset.from_tensor_slices(final_samples).batch(32, drop_remainder=True)\n",
        "\n",
        "\n",
        "def train_GAN(gan, seqs, batch_size, num_features, epochs):\n",
        "  generator, discriminator = gan.layers\n",
        "  for epoch in tqdm(range(epochs)):\n",
        "    print(\"Epoch {}/{}\".format( epoch, epochs))\n",
        "\n",
        "    # Taking batch of sequences\n",
        "    for X_batch in seqs:\n",
        "      \n",
        "      # Generating noise for a batch\n",
        "      noise = tf.random.normal(shape=(batch_size, num_features))\n",
        "      \n",
        "      generated_seqs = generator(noise)\n",
        "      \n",
        "      # Combining the real and generated seqs from the generator\n",
        "      real_and_fake_seqs = tf.concat((generated_seqs, X_batch), axis =0)\n",
        "\n",
        "      # passing the data to the discriminator\n",
        "      discriminator.trainable = True\n",
        "      y = tf.constant([[0.]] * batch_size + [[1.]] * batch_size)\n",
        "      \n",
        "      discriminator.train_on_batch(real_and_fake_seqs, y)\n",
        "\n",
        "      # Training the GAN\n",
        "\n",
        "      y_dash = tf.constant([[1.0]] * batch_size)\n",
        "      discriminator.trainable = False\n",
        "      gan.train_on_batch(noise, y_dash)\n",
        "\n",
        "\n",
        "    print(discriminator.evaluate(real_and_fake_seqs, y))"
      ],
      "execution_count": null,
      "outputs": []
    },
    {
      "cell_type": "code",
      "metadata": {
        "id": "9c-lsaRmBix_",
        "outputId": "f2bc5bcf-a20e-42a8-dc5f-ba179067ec53",
        "colab": {
          "base_uri": "https://localhost:8080/",
          "height": 1000,
          "referenced_widgets": [
            "1db78d6d67e4462cb91bb45a7020cfdd",
            "4f45e84734eb4cdfbc8653fc7833493f",
            "c44451af0774481993a473ba8d75feb6",
            "5daa1eca9ac349b38efe00d48c499c82",
            "fe573e3fd94d47779b1977802f07f4f8",
            "c3b2623f50524dac87fa2b3df6cd1501",
            "c30bc78b9ca34d07b1ae49c8e45df1b7",
            "bf7e45273e7c4ce3ab1ba8c6bc1aa36b"
          ]
        }
      },
      "source": [
        "train_GAN(gan, dna_seqs, batch_size = 32, num_features = 100, epochs= 50)"
      ],
      "execution_count": null,
      "outputs": [
        {
          "output_type": "display_data",
          "data": {
            "application/vnd.jupyter.widget-view+json": {
              "model_id": "1db78d6d67e4462cb91bb45a7020cfdd",
              "version_minor": 0,
              "version_major": 2
            },
            "text/plain": [
              "HBox(children=(FloatProgress(value=0.0, max=50.0), HTML(value='')))"
            ]
          },
          "metadata": {
            "tags": []
          }
        },
        {
          "output_type": "stream",
          "text": [
            "Epoch 0/50\n",
            "2/2 [==============================] - 0s 9ms/step - loss: 0.2596\n",
            "0.2595638930797577\n",
            "Epoch 1/50\n",
            "2/2 [==============================] - 0s 11ms/step - loss: 0.5741\n",
            "0.5741366744041443\n",
            "Epoch 2/50\n",
            "2/2 [==============================] - 0s 12ms/step - loss: 0.6634\n",
            "0.6633647680282593\n",
            "Epoch 3/50\n",
            "2/2 [==============================] - 0s 9ms/step - loss: 0.3839\n",
            "0.38389265537261963\n",
            "Epoch 4/50\n",
            "2/2 [==============================] - 0s 10ms/step - loss: 0.2420\n",
            "0.24198448657989502\n",
            "Epoch 5/50\n",
            "2/2 [==============================] - 0s 9ms/step - loss: 0.6961\n",
            "0.6960759162902832\n",
            "Epoch 6/50\n",
            "2/2 [==============================] - 0s 10ms/step - loss: 0.2562\n",
            "0.25618433952331543\n",
            "Epoch 7/50\n",
            "2/2 [==============================] - 0s 9ms/step - loss: 0.6588\n",
            "0.6588290929794312\n",
            "Epoch 8/50\n",
            "2/2 [==============================] - 0s 9ms/step - loss: 0.6881\n",
            "0.6880876421928406\n",
            "Epoch 9/50\n",
            "2/2 [==============================] - 0s 9ms/step - loss: 0.6691\n",
            "0.6691018342971802\n",
            "Epoch 10/50\n",
            "2/2 [==============================] - 0s 10ms/step - loss: 0.2988\n",
            "0.2987975478172302\n",
            "Epoch 11/50\n",
            "2/2 [==============================] - 0s 9ms/step - loss: 0.5096\n",
            "0.5096348524093628\n",
            "Epoch 12/50\n",
            "2/2 [==============================] - 0s 9ms/step - loss: 0.6343\n",
            "0.6343326568603516\n",
            "Epoch 13/50\n",
            "2/2 [==============================] - 0s 10ms/step - loss: 0.7101\n",
            "0.7101117372512817\n",
            "Epoch 14/50\n",
            "2/2 [==============================] - 0s 9ms/step - loss: 0.6798\n",
            "0.6797778606414795\n",
            "Epoch 15/50\n",
            "2/2 [==============================] - 0s 10ms/step - loss: 0.6866\n",
            "0.6866196393966675\n",
            "Epoch 16/50\n",
            "2/2 [==============================] - 0s 9ms/step - loss: 0.6871\n",
            "0.6871005892753601\n",
            "Epoch 17/50\n",
            "2/2 [==============================] - 0s 8ms/step - loss: 0.7691\n",
            "0.7691433429718018\n",
            "Epoch 18/50\n",
            "2/2 [==============================] - 0s 9ms/step - loss: 0.6919\n",
            "0.6918826103210449\n",
            "Epoch 19/50\n",
            "2/2 [==============================] - 0s 9ms/step - loss: 0.6837\n",
            "0.6837497353553772\n",
            "Epoch 20/50\n",
            "2/2 [==============================] - 0s 9ms/step - loss: 0.7039\n",
            "0.7038565874099731\n",
            "Epoch 21/50\n",
            "2/2 [==============================] - 0s 8ms/step - loss: 0.6888\n",
            "0.6887536644935608\n",
            "Epoch 22/50\n",
            "2/2 [==============================] - 0s 9ms/step - loss: 0.7250\n",
            "0.7250189781188965\n",
            "Epoch 23/50\n",
            "2/2 [==============================] - 0s 8ms/step - loss: 0.7277\n",
            "0.7277004718780518\n",
            "Epoch 24/50\n",
            "2/2 [==============================] - 0s 9ms/step - loss: 0.6991\n",
            "0.6991461515426636\n",
            "Epoch 25/50\n",
            "2/2 [==============================] - 0s 8ms/step - loss: 0.7080\n",
            "0.7080025672912598\n",
            "Epoch 26/50\n",
            "2/2 [==============================] - 0s 9ms/step - loss: 0.6761\n",
            "0.6761482954025269\n",
            "Epoch 27/50\n",
            "2/2 [==============================] - 0s 9ms/step - loss: 0.6908\n",
            "0.6907956004142761\n",
            "Epoch 28/50\n",
            "2/2 [==============================] - 0s 9ms/step - loss: 0.6941\n",
            "0.6941074728965759\n",
            "Epoch 29/50\n",
            "2/2 [==============================] - 0s 9ms/step - loss: 0.6903\n",
            "0.6903258562088013\n",
            "Epoch 30/50\n",
            "2/2 [==============================] - 0s 8ms/step - loss: 0.6866\n",
            "0.6865915060043335\n",
            "Epoch 31/50\n",
            "2/2 [==============================] - 0s 9ms/step - loss: 0.7140\n",
            "0.7140119075775146\n",
            "Epoch 32/50\n",
            "2/2 [==============================] - 0s 8ms/step - loss: 0.6661\n",
            "0.6660597920417786\n",
            "Epoch 33/50\n",
            "2/2 [==============================] - 0s 9ms/step - loss: 0.6385\n",
            "0.6385185718536377\n",
            "Epoch 34/50\n",
            "2/2 [==============================] - 0s 13ms/step - loss: 0.6697\n",
            "0.669664740562439\n",
            "Epoch 35/50\n",
            "2/2 [==============================] - 0s 9ms/step - loss: 0.7031\n",
            "0.7030789256095886\n",
            "Epoch 36/50\n",
            "2/2 [==============================] - 0s 8ms/step - loss: 0.6834\n",
            "0.6834411025047302\n",
            "Epoch 37/50\n",
            "2/2 [==============================] - 0s 8ms/step - loss: 0.6934\n",
            "0.6934087872505188\n",
            "Epoch 38/50\n",
            "2/2 [==============================] - 0s 8ms/step - loss: 0.6877\n",
            "0.6876981258392334\n",
            "Epoch 39/50\n",
            "2/2 [==============================] - 0s 13ms/step - loss: 0.6784\n",
            "0.6783515214920044\n",
            "Epoch 40/50\n",
            "2/2 [==============================] - 0s 8ms/step - loss: 0.6552\n",
            "0.6552102565765381\n",
            "Epoch 41/50\n",
            "2/2 [==============================] - 0s 9ms/step - loss: 0.6878\n",
            "0.6877737641334534\n",
            "Epoch 42/50\n",
            "2/2 [==============================] - 0s 9ms/step - loss: 0.6750\n",
            "0.6750394105911255\n",
            "Epoch 43/50\n",
            "2/2 [==============================] - 0s 8ms/step - loss: 0.6841\n",
            "0.6841245889663696\n",
            "Epoch 44/50\n",
            "2/2 [==============================] - 0s 10ms/step - loss: 0.6860\n",
            "0.6860014200210571\n",
            "Epoch 45/50\n",
            "2/2 [==============================] - 0s 8ms/step - loss: 0.6845\n",
            "0.684483528137207\n",
            "Epoch 46/50\n",
            "2/2 [==============================] - 0s 10ms/step - loss: 0.6898\n",
            "0.689799427986145\n",
            "Epoch 47/50\n",
            "2/2 [==============================] - 0s 9ms/step - loss: 0.6952\n",
            "0.6951830983161926\n",
            "Epoch 48/50\n",
            "2/2 [==============================] - 0s 10ms/step - loss: 0.6805\n",
            "0.6805036067962646\n",
            "Epoch 49/50\n",
            "2/2 [==============================] - 0s 9ms/step - loss: 0.7298\n",
            "0.7298411130905151\n",
            "\n"
          ],
          "name": "stdout"
        }
      ]
    },
    {
      "cell_type": "code",
      "metadata": {
        "id": "G0qmJTKtBk1Z",
        "outputId": "06f4ebd6-5d1d-45f0-9e2a-7d713d03c91b",
        "colab": {
          "base_uri": "https://localhost:8080/",
          "height": 136
        }
      },
      "source": [
        "z = np.random.normal( size=[1,100])\n",
        "arr = generator.predict(z)\n",
        "arr"
      ],
      "execution_count": null,
      "outputs": [
        {
          "output_type": "execute_result",
          "data": {
            "text/plain": [
              "array([[[0.00439637, 0.52587533, 0.9994405 , 0.17459519],\n",
              "        [0.04636385, 0.5659289 , 0.90807164, 0.0177791 ],\n",
              "        [0.47881326, 0.72188175, 0.24348207, 0.19725266],\n",
              "        ...,\n",
              "        [0.12487207, 0.534596  , 0.4005842 , 0.5995917 ],\n",
              "        [0.47062984, 0.44543186, 0.48673612, 0.12545533],\n",
              "        [0.5189485 , 0.13272376, 0.07274412, 0.77011925]]], dtype=float32)"
            ]
          },
          "metadata": {
            "tags": []
          },
          "execution_count": 39
        }
      ]
    },
    {
      "cell_type": "code",
      "metadata": {
        "id": "vF_CQTvHE0X4"
      },
      "source": [
        "arr2 = np.argmax(arr, axis=2)\n"
      ],
      "execution_count": null,
      "outputs": []
    },
    {
      "cell_type": "code",
      "metadata": {
        "id": "WNPRc59qFSq4",
        "outputId": "7cc3e2c6-2b36-4f61-99b9-692bfe36fab5",
        "colab": {
          "base_uri": "https://localhost:8080/",
          "height": 221
        }
      },
      "source": [
        "arr2"
      ],
      "execution_count": null,
      "outputs": [
        {
          "output_type": "execute_result",
          "data": {
            "text/plain": [
              "array([[2, 2, 1, 0, 2, 2, 2, 1, 3, 1, 0, 1, 2, 0, 2, 1, 3, 1, 3, 1, 3, 1,\n",
              "        0, 0, 1, 3, 2, 2, 1, 1, 3, 1, 2, 1, 2, 2, 2, 3, 2, 3, 1, 0, 0, 2,\n",
              "        0, 2, 2, 2, 0, 1, 0, 0, 1, 2, 0, 1, 1, 3, 2, 3, 1, 2, 3, 1, 1, 2,\n",
              "        1, 0, 2, 1, 2, 2, 0, 0, 3, 1, 1, 0, 3, 0, 0, 3, 1, 1, 2, 0, 0, 3,\n",
              "        0, 1, 0, 3, 0, 3, 0, 1, 0, 0, 0, 0, 3, 1, 3, 3, 2, 1, 1, 0, 2, 1,\n",
              "        2, 0, 3, 3, 0, 2, 3, 2, 0, 2, 1, 3, 2, 0, 2, 2, 0, 1, 0, 1, 3, 2,\n",
              "        0, 3, 3, 1, 3, 1, 0, 2, 1, 3, 1, 1, 1, 1, 1, 0, 0, 1, 1, 2, 1, 0,\n",
              "        1, 3, 0, 2, 0, 0, 3, 1, 3, 3, 1, 2, 0, 0, 2, 1, 0, 3, 2, 0, 1, 3,\n",
              "        3, 3, 2, 3, 1, 1, 3, 2, 0, 1, 2, 0, 0, 3, 0, 2, 3, 3, 0, 3, 0, 0,\n",
              "        2, 2, 3, 1, 1, 2, 2, 1, 0, 1, 2, 2, 0, 2, 1, 0, 1, 2, 1, 1, 0, 1,\n",
              "        1, 0, 3, 3, 1, 3, 3, 1, 3, 1, 1, 3, 1, 1, 1, 2, 1, 3, 0, 0, 0, 0,\n",
              "        0, 0, 0, 1, 3, 2, 0, 2, 0, 0, 2, 3, 2, 3]])"
            ]
          },
          "metadata": {
            "tags": []
          },
          "execution_count": 41
        }
      ]
    },
    {
      "cell_type": "code",
      "metadata": {
        "id": "10ES81YEFTNk"
      },
      "source": [
        "idcies = np.reshape(arr2, (256))\n",
        "list(idcies)\n",
        "bxr = np.zeros_like(arr)\n",
        "for i, g in enumerate(idcies):\n",
        "  bxr[0][i][g] = 1"
      ],
      "execution_count": null,
      "outputs": []
    },
    {
      "cell_type": "code",
      "metadata": {
        "id": "fVCxv4EjIh6z"
      },
      "source": [
        "generator.save('genRNN.h5')"
      ],
      "execution_count": null,
      "outputs": []
    },
    {
      "cell_type": "code",
      "metadata": {
        "id": "Rk2y_laJIU8w",
        "outputId": "3ef6f92b-225a-49d2-9aeb-b7ffd1c957f1",
        "colab": {
          "base_uri": "https://localhost:8080/",
          "height": 136
        }
      },
      "source": [
        "bxr"
      ],
      "execution_count": null,
      "outputs": [
        {
          "output_type": "execute_result",
          "data": {
            "text/plain": [
              "array([[[0., 0., 1., 0.],\n",
              "        [0., 0., 1., 0.],\n",
              "        [0., 1., 0., 0.],\n",
              "        ...,\n",
              "        [0., 0., 0., 1.],\n",
              "        [0., 0., 1., 0.],\n",
              "        [0., 0., 0., 1.]]], dtype=float32)"
            ]
          },
          "metadata": {
            "tags": []
          },
          "execution_count": 44
        }
      ]
    },
    {
      "cell_type": "code",
      "metadata": {
        "id": "J7xKp86PFklC",
        "outputId": "bb5d5201-97d7-4cef-f1e3-c044045a3c03",
        "colab": {
          "base_uri": "https://localhost:8080/",
          "height": 34
        }
      },
      "source": [
        "bxr.shape"
      ],
      "execution_count": null,
      "outputs": [
        {
          "output_type": "execute_result",
          "data": {
            "text/plain": [
              "(1, 256, 4)"
            ]
          },
          "metadata": {
            "tags": []
          },
          "execution_count": 45
        }
      ]
    },
    {
      "cell_type": "code",
      "metadata": {
        "id": "JWslMNXHF5tB"
      },
      "source": [
        "arr = np.reshape(bxr, (256,4))"
      ],
      "execution_count": null,
      "outputs": []
    },
    {
      "cell_type": "code",
      "metadata": {
        "id": "Ddt8wLMQGQtt",
        "outputId": "81e77d76-36ea-4595-b3ed-9369d6c15288",
        "colab": {
          "base_uri": "https://localhost:8080/",
          "height": 136
        }
      },
      "source": [
        "arr"
      ],
      "execution_count": null,
      "outputs": [
        {
          "output_type": "execute_result",
          "data": {
            "text/plain": [
              "array([[0., 0., 1., 0.],\n",
              "       [0., 0., 1., 0.],\n",
              "       [0., 1., 0., 0.],\n",
              "       ...,\n",
              "       [0., 0., 0., 1.],\n",
              "       [0., 0., 1., 0.],\n",
              "       [0., 0., 0., 1.]], dtype=float32)"
            ]
          },
          "metadata": {
            "tags": []
          },
          "execution_count": 47
        }
      ]
    },
    {
      "cell_type": "code",
      "metadata": {
        "id": "eOFuut1AGwDC",
        "outputId": "7a864b85-215a-4817-c6ac-7483ec219214",
        "colab": {
          "base_uri": "https://localhost:8080/",
          "height": 54
        }
      },
      "source": [
        "for i in range (256):\n",
        "  temp = arr[i][:]\n",
        "  n=np.argmax(temp)\n",
        "  if n==0:\n",
        "    print('A', end='')\n",
        "  elif n== 1:\n",
        "    print('G', end='')\n",
        "  elif n== 2:\n",
        "    print('C', end='')\n",
        "  elif n== 3:\n",
        "    print('T', end='')"
      ],
      "execution_count": null,
      "outputs": [
        {
          "output_type": "stream",
          "text": [
            "CCGACCCGTGAGCACGTGTGTGAAGTCCGGTGCGCCCTCTGAACACCCAGAAGCAGGTCTGCTGGCGACGCCAATGGATAATGGCAATAGATATAGAAAATGTTCGGACGCATTACTCACGTCACCAGAGTCATTGTGACGTGGGGGAAGGCGAGTACAATGTTGCAACGATCAGTTTCTGGTCAGCAATACTTATAACCTGGCCGAGCCACGAGCGGAGGATTGTTGTGGTGGGCGTAAAAAAAGTCACAACTCT"
          ],
          "name": "stdout"
        }
      ]
    },
    {
      "cell_type": "code",
      "metadata": {
        "id": "IJD4FQZzHKIJ"
      },
      "source": [
        "AGCT"
      ],
      "execution_count": null,
      "outputs": []
    }
  ]
}