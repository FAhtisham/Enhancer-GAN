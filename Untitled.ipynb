{
 "cells": [
  {
   "cell_type": "code",
   "execution_count": 220,
   "metadata": {},
   "outputs": [],
   "source": [
    "import numpy as np\n",
    "import pandas as pd\n",
    "import os\n",
    "from tqdm import tqdm\n",
    "from random import choice\n",
    "# Importing Libraries\n",
    "\n",
    "import sys\n",
    "import re\n",
    "import numpy as np\n",
    "import tensorflow as tf\n",
    "import os\n",
    "\n",
    "from tensorflow.keras import activations \n",
    "from tensorflow.keras.layers import MaxPool1D, MaxPool2D,LeakyReLU, Activation, Conv1D, InputLayer, Conv2D, Dense, Dropout, Flatten, LSTM, Bidirectional\n",
    "from tensorflow.keras.models import Sequential\n",
    "from tensorflow import keras\n",
    "import tqdm\n",
    "import random\n",
    "from random import choices"
   ]
  },
  {
   "cell_type": "markdown",
   "metadata": {},
   "source": [
    "# Reading human genome chromosome 1"
   ]
  },
  {
   "cell_type": "code",
   "execution_count": 3,
   "metadata": {},
   "outputs": [],
   "source": [
    "with open(\"chr 1\",'r') as fp:\n",
    "    genome = fp.readlines()"
   ]
  },
  {
   "cell_type": "code",
   "execution_count": 4,
   "metadata": {},
   "outputs": [
    {
     "data": {
      "text/plain": [
       "4149275"
      ]
     },
     "execution_count": 4,
     "metadata": {},
     "output_type": "execute_result"
    }
   ],
   "source": [
    "len(genome)"
   ]
  },
  {
   "cell_type": "markdown",
   "metadata": {},
   "source": [
    "# <center >Reading the data "
   ]
  },
  {
   "cell_type": "code",
   "execution_count": 5,
   "metadata": {},
   "outputs": [],
   "source": [
    "def read_fasta(fp):\n",
    "    name, seq = None, []\n",
    "    for line in fp:\n",
    "        line = line.rstrip()\n",
    "        if line.startswith(\">\"):\n",
    "            if name: yield (name, ''.join(seq))\n",
    "            name, seq = line, []\n",
    "        else:\n",
    "            seq.append(line)\n",
    "    if name: yield (name, ''.join(seq))\n",
    "        \n",
    "        \n",
    "def len_check(temp, length):\n",
    "    count = 0\n",
    "    for i in range(len(temp)):\n",
    "        if (len(temp[i]) > length):\n",
    "            count+=1\n",
    "            \n",
    "    print(\"count =\", count)"
   ]
  },
  {
   "cell_type": "code",
   "execution_count": 6,
   "metadata": {},
   "outputs": [
    {
     "name": "stdout",
     "output_type": "stream",
     "text": [
      "Sequences Read Succesfully !!!!\n"
     ]
    }
   ],
   "source": [
    "sequences = list()\n",
    "\n",
    "with open('permissive_enhancers') as fp:\n",
    "    for name, seq in read_fasta(fp):\n",
    "        sequences.append(seq)\n",
    "print(\"Sequences Read Succesfully !!!!\")"
   ]
  },
  {
   "cell_type": "code",
   "execution_count": 7,
   "metadata": {},
   "outputs": [
    {
     "name": "stdout",
     "output_type": "stream",
     "text": [
      "Total Permissive Enhancers:  43011\n"
     ]
    }
   ],
   "source": [
    "print(\"Total Permissive Enhancers: \", len(sequences))"
   ]
  },
  {
   "cell_type": "code",
   "execution_count": 8,
   "metadata": {},
   "outputs": [
    {
     "name": "stdout",
     "output_type": "stream",
     "text": [
      "Sequences are in unequal length\n"
     ]
    },
    {
     "data": {
      "text/plain": [
       "153"
      ]
     },
     "execution_count": 8,
     "metadata": {},
     "output_type": "execute_result"
    }
   ],
   "source": [
    "print(\"Sequences are in unequal length\")\n",
    "len(sequences[10])"
   ]
  },
  {
   "cell_type": "markdown",
   "metadata": {},
   "source": [
    "# <center> Information about the data "
   ]
  },
  {
   "cell_type": "code",
   "execution_count": 9,
   "metadata": {},
   "outputs": [
    {
     "name": "stdout",
     "output_type": "stream",
     "text": [
      "sum is: 12385403.0 \n",
      "average is: 287.9589639859571 \n",
      "max length is: 2860 \n",
      "min length is: 2\n"
     ]
    },
    {
     "data": {
      "text/plain": [
       "18700"
      ]
     },
     "execution_count": 9,
     "metadata": {},
     "output_type": "execute_result"
    }
   ],
   "source": [
    "sum = 0.0\n",
    "max = 0\n",
    "min = 2860\n",
    "counter = 0\n",
    "for i in range(len(sequences)):\n",
    "    sum = sum + len(sequences[i])\n",
    "    if (len(sequences[i])>max):\n",
    "        max = len(sequences[i])\n",
    "    if (len(sequences[i])<min):\n",
    "        min = len(sequences[i])\n",
    "        \n",
    "    if (len(sequences[i])>300):\n",
    "        counter+=1\n",
    "average = sum/len(sequences)\n",
    "\n",
    "print(\"sum is:\", sum, \"\\naverage is:\", average, \"\\nmax length is:\", max, \"\\nmin length is:\", min)\n",
    "counter"
   ]
  },
  {
   "cell_type": "markdown",
   "metadata": {},
   "source": [
    "# <center> Sub sampling from the data"
   ]
  },
  {
   "cell_type": "markdown",
   "metadata": {},
   "source": [
    "#### <center> We want to get sequences of length L, if sequences are bigger than L then we try to produce subsequences of size L from these sequences. On the other hand side we try to augment the shorter sequences by nucleotides present in their start."
   ]
  },
  {
   "cell_type": "code",
   "execution_count": 123,
   "metadata": {},
   "outputs": [],
   "source": [
    "shorter_sequences = list()\n",
    "longer_sequences = list()"
   ]
  },
  {
   "cell_type": "code",
   "execution_count": 124,
   "metadata": {},
   "outputs": [],
   "source": [
    "for i in range(len(sequences)):\n",
    "    if (len(sequences[i])>300):\n",
    "        longer_sequences.append(sequences[i])\n",
    "    elif (len(sequences[i])<=300):\n",
    "        shorter_sequences.append(sequences[i])"
   ]
  },
  {
   "cell_type": "code",
   "execution_count": 125,
   "metadata": {},
   "outputs": [
    {
     "name": "stdout",
     "output_type": "stream",
     "text": [
      "24311 18700\n"
     ]
    }
   ],
   "source": [
    "print(len(shorter_sequences), len(longer_sequences))"
   ]
  },
  {
   "cell_type": "code",
   "execution_count": 126,
   "metadata": {},
   "outputs": [
    {
     "data": {
      "text/plain": [
       "43011"
      ]
     },
     "execution_count": 126,
     "metadata": {},
     "output_type": "execute_result"
    }
   ],
   "source": [
    "24311 +18700"
   ]
  },
  {
   "cell_type": "markdown",
   "metadata": {},
   "source": [
    "#### <center >creating more sequences from longer sequences "
   ]
  },
  {
   "cell_type": "code",
   "execution_count": 127,
   "metadata": {},
   "outputs": [],
   "source": [
    "def long_to_augmentation(longer_sequences):\n",
    "    for i in range (len(longer_sequences)):\n",
    "        if (len(longer_sequences[i])>300):\n",
    "            temp = longer_sequences[i]\n",
    "            longer_sequences[i]=temp[:300]\n",
    "            longer_sequences.append(temp[300:])\n",
    "    return longer_sequences\n"
   ]
  },
  {
   "cell_type": "code",
   "execution_count": 128,
   "metadata": {},
   "outputs": [],
   "source": [
    "def check_len_seq_long(longer_sequences):\n",
    "    for j in tqdm(range(len(longer_sequences))):\n",
    "        if (len(longer_sequences[j])<300):\n",
    "            shorter_sequences.append(longer_sequences[j])    \n",
    "    return count_index\n"
   ]
  },
  {
   "cell_type": "code",
   "execution_count": 129,
   "metadata": {},
   "outputs": [],
   "source": [
    "for i in range(15):\n",
    "    longer_sequences=long_to_augmentation(longer_sequences)\n"
   ]
  },
  {
   "cell_type": "code",
   "execution_count": null,
   "metadata": {},
   "outputs": [],
   "source": []
  },
  {
   "cell_type": "code",
   "execution_count": 130,
   "metadata": {},
   "outputs": [
    {
     "data": {
      "text/plain": [
       "300"
      ]
     },
     "execution_count": 130,
     "metadata": {},
     "output_type": "execute_result"
    }
   ],
   "source": [
    "len(longer_sequences[9352])"
   ]
  },
  {
   "cell_type": "code",
   "execution_count": 131,
   "metadata": {},
   "outputs": [
    {
     "name": "stderr",
     "output_type": "stream",
     "text": [
      "100%|███████████████████████████████████████████████████████████████████████| 39486/39486 [00:00<00:00, 1880699.60it/s]"
     ]
    },
    {
     "name": "stdout",
     "output_type": "stream",
     "text": [
      "sequences have been addded in shorter sequences\n",
      "new shorter sequences have been deleted from longer sequences\n",
      "total long sequences: 20796\n"
     ]
    },
    {
     "name": "stderr",
     "output_type": "stream",
     "text": [
      "\n"
     ]
    }
   ],
   "source": [
    "count_index=check_len_seq_long(longer_sequences)\n",
    "print(\"sequences have been addded in shorter sequences\")\n",
    "length = len(longer_sequences)\n",
    "\n",
    "new_longer_sequences=[x for x in longer_sequences if len(x)>=300]\n",
    "        \n",
    "print(\"new shorter sequences have been deleted from longer sequences\")\n",
    "print(\"total long sequences:\", len(new_longer_sequences))\n"
   ]
  },
  {
   "cell_type": "code",
   "execution_count": 132,
   "metadata": {},
   "outputs": [
    {
     "data": {
      "text/plain": [
       "300"
      ]
     },
     "execution_count": 132,
     "metadata": {},
     "output_type": "execute_result"
    }
   ],
   "source": [
    "len(longer_sequences[9350])"
   ]
  },
  {
   "cell_type": "code",
   "execution_count": 133,
   "metadata": {},
   "outputs": [
    {
     "data": {
      "text/plain": [
       "43001"
      ]
     },
     "execution_count": 133,
     "metadata": {},
     "output_type": "execute_result"
    }
   ],
   "source": [
    "len(shorter_sequences)"
   ]
  },
  {
   "cell_type": "code",
   "execution_count": 134,
   "metadata": {},
   "outputs": [],
   "source": [
    "#junk values\n",
    "#copy paste \n",
    "#check from genome"
   ]
  },
  {
   "cell_type": "markdown",
   "metadata": {},
   "source": [
    "#### <center > augmenting the sequences with shorter length"
   ]
  },
  {
   "cell_type": "markdown",
   "metadata": {},
   "source": [
    "#### Augmenting randomly"
   ]
  },
  {
   "cell_type": "code",
   "execution_count": 135,
   "metadata": {},
   "outputs": [],
   "source": [
    "new_shorter_sequences= list()\n",
    "\n",
    "def augment_shorter_sequences(shorter_sequences):\n",
    "    for i in range(len(shorter_sequences)):\n",
    "        if (len(shorter_sequences[i])<300):\n",
    "            temp = shorter_sequences[i]\n",
    "            diff = 300-len(shorter_sequences[i])\n",
    "            for i in range(diff):\n",
    "                temp += choice('ATCG')\n",
    "            new_shorter_sequences.append(temp)"
   ]
  },
  {
   "cell_type": "markdown",
   "metadata": {},
   "source": [
    "#### Augmenting by copy paste"
   ]
  },
  {
   "cell_type": "markdown",
   "metadata": {},
   "source": [
    "def augment_shorter_sequences(shorter_sequences):\n",
    "    for i in range(len(shorter_sequences)):\n",
    "        if (len(shorter_sequences[i])<300 and len(shorter_sequences[i])>=150):\n",
    "            temp = shorter_sequences[i]\n",
    "            diff = 300-len(shorter_sequences[i])\n",
    "            temp = temp+temp[0:diff]\n",
    "            shorter_sequences[i]=temp\n",
    "        elif (len(shorter_sequences[i])<300 and len(shorter_sequences[i])>=150):\n",
    "            temp = temp = shorter_sequences[i]\n",
    "\n",
    "\n",
    "        \n",
    "    return shorter_sequences"
   ]
  },
  {
   "cell_type": "markdown",
   "metadata": {},
   "source": [
    "#### Augmenting by taking into account the real genome sequence"
   ]
  },
  {
   "cell_type": "markdown",
   "metadata": {},
   "source": [
    "def augment_shorter_sequences(shorter_sequences):\n",
    "    for i in range(len(shorter_sequences)):\n",
    "        if (len(shorter_sequences[i])<300 and len(shorter_sequences[i])>=150):\n",
    "            temp = shorter_sequences[i]\n",
    "            diff = 300-len(shorter_sequences[i])\n",
    "            temp = temp+temp[0:diff]\n",
    "            shorter_sequences[i]=temp\n",
    "        elif (len(shorter_sequences[i])<300 and len(shorter_sequences[i])>=150):\n",
    "            temp = temp = shorter_sequences[i]\n",
    "\n",
    "\n",
    "        \n",
    "    return shorter_sequences"
   ]
  },
  {
   "cell_type": "markdown",
   "metadata": {},
   "source": [
    "for i in range(len(shorter_sequences)):\n",
    "    if (len(shorter_sequences[i])<300):\n",
    "        temp = shorter_sequences[i]\n",
    "        diff = 300-len(shorter_sequences[i])\n",
    "        for i in range(diff):\n",
    "            temp += choice('ATCG')\n",
    "        new_shorter_sequences.append(temp)\n",
    "        #shorter_sequences[i]=temp\n",
    "        #print(len(shorter_sequences[i]))"
   ]
  },
  {
   "cell_type": "code",
   "execution_count": 136,
   "metadata": {},
   "outputs": [],
   "source": [
    "augment_shorter_sequences(shorter_sequences)"
   ]
  },
  {
   "cell_type": "code",
   "execution_count": 137,
   "metadata": {},
   "outputs": [
    {
     "data": {
      "text/plain": [
       "43001"
      ]
     },
     "execution_count": 137,
     "metadata": {},
     "output_type": "execute_result"
    }
   ],
   "source": [
    "len(shorter_sequences)"
   ]
  },
  {
   "cell_type": "code",
   "execution_count": 138,
   "metadata": {},
   "outputs": [
    {
     "data": {
      "text/plain": [
       "63797"
      ]
     },
     "execution_count": 138,
     "metadata": {},
     "output_type": "execute_result"
    }
   ],
   "source": [
    "43001 + 20796"
   ]
  },
  {
   "cell_type": "markdown",
   "metadata": {},
   "source": [
    "# <center> Combining the short and long sequences"
   ]
  },
  {
   "cell_type": "code",
   "execution_count": 139,
   "metadata": {},
   "outputs": [],
   "source": [
    "def combine(longer_sequences, shorter_sequences):\n",
    "    dataset = longer_sequences + shorter_sequences\n",
    "    return dataset\n",
    "    "
   ]
  },
  {
   "cell_type": "code",
   "execution_count": 140,
   "metadata": {},
   "outputs": [],
   "source": [
    "datatset = combine(new_longer_sequences, new_shorter_sequences)"
   ]
  },
  {
   "cell_type": "code",
   "execution_count": 141,
   "metadata": {},
   "outputs": [
    {
     "data": {
      "text/plain": [
       "63671"
      ]
     },
     "execution_count": 141,
     "metadata": {},
     "output_type": "execute_result"
    }
   ],
   "source": [
    "len(datatset)"
   ]
  },
  {
   "cell_type": "markdown",
   "metadata": {},
   "source": [
    "# <center> Sequences to one hot encoding"
   ]
  },
  {
   "cell_type": "code",
   "execution_count": 142,
   "metadata": {},
   "outputs": [],
   "source": [
    "def baseToOnehot(base):\n",
    "    if base == 'A':\n",
    "        return np.array([1,0,0,0])\n",
    "    elif base == 'G':\n",
    "        return np.array([0,1,0,0])\n",
    "    elif base == 'C':\n",
    "        return np.array([0,0,1,0])\n",
    "    elif base == 'T':\n",
    "        return np.array([0,0,0,1])"
   ]
  },
  {
   "cell_type": "code",
   "execution_count": 143,
   "metadata": {},
   "outputs": [],
   "source": [
    "def one_hot_encode(seq):\n",
    "    mapping = dict(zip(\"AGCT\", range(4)))    \n",
    "    seq2 = [mapping[i] for i in seq]\n",
    "    return np.eye(4)[seq2]"
   ]
  },
  {
   "cell_type": "code",
   "execution_count": 182,
   "metadata": {},
   "outputs": [
    {
     "name": "stderr",
     "output_type": "stream",
     "text": [
      "100%|█████████████████████████████████████████████████████████████████████████| 63671/63671 [00:03<00:00, 16702.78it/s]\n"
     ]
    }
   ],
   "source": [
    "all_samples = np.zeros((len(datatset), 300, 4))\n",
    "current_sample = np.zeros((300,4))\n",
    "for i in tqdm(range(len(datatset))):       \n",
    "    all_samples[i]=one_hot_encode(datatset[i])"
   ]
  },
  {
   "cell_type": "code",
   "execution_count": 183,
   "metadata": {},
   "outputs": [
    {
     "name": "stdout",
     "output_type": "stream",
     "text": [
      "(63671, 300, 4)\n"
     ]
    }
   ],
   "source": [
    "all_samples = all_samples.astype('float32')\n",
    "print(all_samples.shape)"
   ]
  },
  {
   "cell_type": "code",
   "execution_count": 156,
   "metadata": {},
   "outputs": [],
   "source": [
    "all_samples = np.expand_dims(all_samples, axis=0)\n"
   ]
  },
  {
   "cell_type": "code",
   "execution_count": 229,
   "metadata": {},
   "outputs": [],
   "source": [
    "np.save(\"one_hot_permissive_enhancers\",all_samples)"
   ]
  },
  {
   "cell_type": "code",
   "execution_count": 173,
   "metadata": {
    "scrolled": true
   },
   "outputs": [
    {
     "name": "stdout",
     "output_type": "stream",
     "text": [
      "(63671, 300, 4)\n"
     ]
    }
   ],
   "source": [
    "print(all_samples.shape)"
   ]
  },
  {
   "cell_type": "code",
   "execution_count": 176,
   "metadata": {},
   "outputs": [],
   "source": [
    "temp = np.reshape (all_samples, (4,63671,300))\n"
   ]
  },
  {
   "cell_type": "code",
   "execution_count": 179,
   "metadata": {},
   "outputs": [
    {
     "data": {
      "text/plain": [
       "(4, 300)"
      ]
     },
     "execution_count": 179,
     "metadata": {},
     "output_type": "execute_result"
    }
   ],
   "source": [
    "temp[:,1].shape"
   ]
  },
  {
   "cell_type": "code",
   "execution_count": 184,
   "metadata": {},
   "outputs": [],
   "source": [
    "#final_samples = np.reshape (all_samples, (63671,4,1,300))\n"
   ]
  },
  {
   "cell_type": "code",
   "execution_count": 185,
   "metadata": {},
   "outputs": [],
   "source": [
    "#final_samples[1]"
   ]
  }
 ],
 "metadata": {
  "kernelspec": {
   "display_name": "Python 3",
   "language": "python",
   "name": "python3"
  }
 },
 "nbformat": 4,
 "nbformat_minor": 4
}
